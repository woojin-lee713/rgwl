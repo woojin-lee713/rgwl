{
 "cells": [
  {
   "cell_type": "markdown",
   "id": "9962f900-3550-45f0-8685-53cc4248db59",
   "metadata": {},
   "source": [
    "---\n",
    "title: Console Module\n",
    "---"
   ]
  },
  {
   "cell_type": "code",
   "execution_count": 1,
   "id": "c6c44013-41e1-4415-855c-c8987e7444dc",
   "metadata": {},
   "outputs": [],
   "source": [
    "from wikiapp.console import main"
   ]
  },
  {
   "cell_type": "code",
   "execution_count": 9,
   "id": "c08bacb4-0666-4c88-b211-af1dc08e4266",
   "metadata": {},
   "outputs": [],
   "source": [
    "from nbdev import show_doc\n",
    "from click.testing import CliRunner"
   ]
  },
  {
   "cell_type": "code",
   "execution_count": 7,
   "id": "1d3d9792-2e02-4f1e-9e91-8db72f460f34",
   "metadata": {},
   "outputs": [
    {
     "data": {
      "text/markdown": [
       "---\n",
       "\n",
       "### <Command main>\n",
       "\n",
       ">      <Command main> (*args:Any, **kwargs:Any)\n",
       "\n",
       "*This is the console interface to 'random_page' function in wikipedia.py.\n",
       "\n",
       "It comes with cool colors!*"
      ],
      "text/plain": [
       "---\n",
       "\n",
       "### <Command main>\n",
       "\n",
       ">      <Command main> (*args:Any, **kwargs:Any)\n",
       "\n",
       "*This is the console interface to 'random_page' function in wikipedia.py.\n",
       "\n",
       "It comes with cool colors!*"
      ]
     },
     "execution_count": 7,
     "metadata": {},
     "output_type": "execute_result"
    }
   ],
   "source": [
    "show_doc(main)"
   ]
  }
 ],
 "metadata": {
  "kernelspec": {
   "display_name": "Python 3 (ipykernel)",
   "language": "python",
   "name": "python3"
  },
  "language_info": {
   "codemirror_mode": {
    "name": "ipython",
    "version": 3
   },
   "file_extension": ".py",
   "mimetype": "text/x-python",
   "name": "python",
   "nbconvert_exporter": "python",
   "pygments_lexer": "ipython3",
   "version": "3.12.3"
  }
 },
 "nbformat": 4,
 "nbformat_minor": 5
}
