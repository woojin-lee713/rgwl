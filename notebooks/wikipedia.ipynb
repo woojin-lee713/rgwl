{
 "cells": [
  {
   "cell_type": "markdown",
   "id": "6a19f49d-0535-4c4f-87d2-6dd06f459e02",
   "metadata": {},
   "source": [
    "---\n",
    "title: Wikipedia Module\n",
    "---"
   ]
  },
  {
   "cell_type": "code",
   "execution_count": 1,
   "id": "1a565e5d-1272-40b9-88a8-b05c51041241",
   "metadata": {},
   "outputs": [],
   "source": [
    "from wikiapp.wikipedia import random_page, Page"
   ]
  },
  {
   "cell_type": "code",
   "execution_count": 2,
   "id": "2df2cdc2-8064-4a2f-897b-410720c8271c",
   "metadata": {},
   "outputs": [],
   "source": [
    "from nbdev import show_doc"
   ]
  },
  {
   "cell_type": "code",
   "execution_count": 3,
   "id": "d88523db-640c-4439-8af6-5b593be6f1ad",
   "metadata": {},
   "outputs": [
    {
     "data": {
      "text/markdown": [
       "---\n",
       "\n",
       "### Page\n",
       "\n",
       ">      Page (title:str, extract:str)\n",
       "\n",
       "*A Page Dataclass to represent the return value from wikipedia*"
      ],
      "text/plain": [
       "---\n",
       "\n",
       "### Page\n",
       "\n",
       ">      Page (title:str, extract:str)\n",
       "\n",
       "*A Page Dataclass to represent the return value from wikipedia*"
      ]
     },
     "execution_count": 3,
     "metadata": {},
     "output_type": "execute_result"
    }
   ],
   "source": [
    "show_doc(Page)"
   ]
  },
  {
   "cell_type": "code",
   "execution_count": 4,
   "id": "c74019e0-cdcd-4d9e-90ea-02b0dbe24c69",
   "metadata": {},
   "outputs": [
    {
     "data": {
      "text/markdown": [
       "---\n",
       "\n",
       "### random_page\n",
       "\n",
       ">      random_page (language:str='en')\n",
       "\n",
       "*Get a random page in Wikipedia*\n",
       "\n",
       "|    | **Type** | **Default** | **Details** |\n",
       "| -- | -------- | ----------- | ----------- |\n",
       "| language | str | en | The language you want to use as a two character string |\n",
       "| **Returns** | **Page** |  | **Returns a Page object** |"
      ],
      "text/plain": [
       "---\n",
       "\n",
       "### random_page\n",
       "\n",
       ">      random_page (language:str='en')\n",
       "\n",
       "*Get a random page in Wikipedia*\n",
       "\n",
       "|    | **Type** | **Default** | **Details** |\n",
       "| -- | -------- | ----------- | ----------- |\n",
       "| language | str | en | The language you want to use as a two character string |\n",
       "| **Returns** | **Page** |  | **Returns a Page object** |"
      ]
     },
     "execution_count": 4,
     "metadata": {},
     "output_type": "execute_result"
    }
   ],
   "source": [
    "show_doc(random_page)"
   ]
  },
  {
   "cell_type": "markdown",
   "id": "a4c05f08-013d-4cf0-bbca-c284db7c9a1d",
   "metadata": {},
   "source": [
    "## Examples"
   ]
  },
  {
   "cell_type": "code",
   "execution_count": 7,
   "id": "81619a54-2423-460f-aa51-c09958b32291",
   "metadata": {},
   "outputs": [
    {
     "name": "stdout",
     "output_type": "stream",
     "text": [
      "TITLE: Renfe Class 321\n",
      "EXTRACT: The Renfe Class 321 is a class of diesel-electric locomotives operated by Renfe in Spain, designed by Alco and built by them and by Euskalduna under licence.\n"
     ]
    }
   ],
   "source": [
    "page = random_page()\n",
    "print(\"TITLE:\", page.title)\n",
    "print(\"EXTRACT:\", page.extract)"
   ]
  },
  {
   "cell_type": "markdown",
   "id": "b73a73b4-dc0c-4f33-a87d-e7fc9131e34c",
   "metadata": {},
   "source": [
    "If you do this again, you will get another random page."
   ]
  },
  {
   "cell_type": "code",
   "execution_count": 8,
   "id": "e1bff0b8-1046-4889-822d-ad35c620b496",
   "metadata": {},
   "outputs": [
    {
     "name": "stdout",
     "output_type": "stream",
     "text": [
      "TITLE: Ben Hueso\n",
      "EXTRACT: Benjamin Hueso is an American businessman and politician who served in the California State Senate. A Democrat, he represented the 40th Senate District, which encompassed Imperial County and the border regions of San Diego County.\n"
     ]
    }
   ],
   "source": [
    "page = random_page()\n",
    "print(\"TITLE:\", page.title)\n",
    "print(\"EXTRACT:\", page.extract)"
   ]
  },
  {
   "cell_type": "markdown",
   "id": "c8b49416-7078-4879-aae6-05a8af502d84",
   "metadata": {},
   "source": [
    "You can change the language if you want!"
   ]
  },
  {
   "cell_type": "code",
   "execution_count": 9,
   "id": "c77ac0aa-68d8-41e6-ba7f-91dd4cb701dc",
   "metadata": {},
   "outputs": [
    {
     "name": "stdout",
     "output_type": "stream",
     "text": [
      "TITLE: Main d'Anvers\n",
      "EXTRACT: La mains d'Anvers est une pâtisserie d'origine belge flamande. Ce produit régional de la ville d'Anvers est reconnu par l'Union européenne comme spécialité traditionnelle garantie.\n"
     ]
    }
   ],
   "source": [
    "page = random_page(language=\"fr\")\n",
    "print(\"TITLE:\", page.title)\n",
    "print(\"EXTRACT:\", page.extract)"
   ]
  }
 ],
 "metadata": {
  "kernelspec": {
   "display_name": "Python 3 (ipykernel)",
   "language": "python",
   "name": "python3"
  },
  "language_info": {
   "codemirror_mode": {
    "name": "ipython",
    "version": 3
   },
   "file_extension": ".py",
   "mimetype": "text/x-python",
   "name": "python",
   "nbconvert_exporter": "python",
   "pygments_lexer": "ipython3",
   "version": "3.12.3"
  }
 },
 "nbformat": 4,
 "nbformat_minor": 5
}
